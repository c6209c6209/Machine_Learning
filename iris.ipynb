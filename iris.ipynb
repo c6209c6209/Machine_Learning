{
 "cells": [
  {
   "cell_type": "markdown",
   "metadata": {},
   "source": [
    "# <center>HW1</center>\n",
    "### <center>106030012 廖昱瑋</center>\n",
    "***"
   ]
  },
  {
   "cell_type": "markdown",
   "metadata": {},
   "source": [
    "## <u>Question1</u>"
   ]
  },
  {
   "cell_type": "markdown",
   "metadata": {},
   "source": [
    "### (1) Means of the four features for three classes\n",
    "#### Explaination\n",
    "運用公式 &nbsp; $ μ = \\frac{\\sum_{i=1}^n{x_i}}{n}$ &nbsp; 算平均值\n",
    "#### Steps\n",
    "1. 先用pandas到檔案網址讀檔\n",
    "2. 初始化所有average變數為0\n",
    "3. 運用for迴圈分別將data加總進average變數\n",
    "4. 再將average除以50即為各features平均值"
   ]
  },
  {
   "cell_type": "markdown",
   "metadata": {},
   "source": [
    "#### Result"
   ]
  },
  {
   "cell_type": "code",
   "execution_count": 30,
   "metadata": {
    "scrolled": true
   },
   "outputs": [
    {
     "name": "stdout",
     "output_type": "stream",
     "text": [
      "Setosa\n",
      "Average sepal length: 5.006\n",
      "Average sepal width: 3.418\n",
      "Average petal length: 1.464\n",
      "Average petal width: 0.244 \n",
      "\n",
      "Versicolor\n",
      "Average sepal length: 5.936\n",
      "Average sepal width: 2.77\n",
      "Average petal length: 4.26\n",
      "Average petal width: 1.326 \n",
      "\n",
      "Virginica\n",
      "Average sepal length: 6.588\n",
      "Average sepal width: 2.974\n",
      "Average petal length: 5.552\n",
      "Average petal width: 2.026\n"
     ]
    }
   ],
   "source": [
    "import pandas as pd\n",
    "\n",
    "df = pd.read_csv('https://archive.ics.uci.edu/ml/machine-learning-databases/iris/iris.data', header=None)\n",
    "avg_sep_len_Seto = 0\n",
    "avg_sep_wid_Seto = 0\n",
    "avg_pet_len_Seto = 0\n",
    "avg_pet_wid_Seto = 0\n",
    "avg_sep_len_Vers = 0\n",
    "avg_sep_wid_Vers = 0\n",
    "avg_pet_len_Vers = 0\n",
    "avg_pet_wid_Vers = 0\n",
    "avg_sep_len_Virg = 0\n",
    "avg_sep_wid_Virg = 0\n",
    "avg_pet_len_Virg = 0\n",
    "avg_pet_wid_Virg = 0\n",
    "\n",
    "for i in range(50):\n",
    "    avg_sep_len_Seto += df.iloc[i, 0]\n",
    "    avg_sep_wid_Seto += df.iloc[i, 1]\n",
    "    avg_pet_len_Seto += df.iloc[i, 2]\n",
    "    avg_pet_wid_Seto += df.iloc[i, 3]\n",
    "    avg_sep_len_Vers += df.iloc[i+50, 0]\n",
    "    avg_sep_wid_Vers += df.iloc[i+50, 1]\n",
    "    avg_pet_len_Vers += df.iloc[i+50, 2]\n",
    "    avg_pet_wid_Vers += df.iloc[i+50, 3]\n",
    "    avg_sep_len_Virg += df.iloc[i+100, 0]\n",
    "    avg_sep_wid_Virg += df.iloc[i+100, 1]\n",
    "    avg_pet_len_Virg += df.iloc[i+100, 2]\n",
    "    avg_pet_wid_Virg += df.iloc[i+100, 3]\n",
    "\n",
    "avg_sep_len_Seto /= 50\n",
    "avg_sep_wid_Seto /= 50\n",
    "avg_pet_len_Seto /= 50\n",
    "avg_pet_wid_Seto /= 50\n",
    "avg_sep_len_Vers /= 50\n",
    "avg_sep_wid_Vers /= 50\n",
    "avg_pet_len_Vers /= 50\n",
    "avg_pet_wid_Vers /= 50\n",
    "avg_sep_len_Virg /= 50\n",
    "avg_sep_wid_Virg /= 50\n",
    "avg_pet_len_Virg /= 50\n",
    "avg_pet_wid_Virg /= 50\n",
    "\n",
    "print(\"Setosa\")\n",
    "print(\"Average sepal length:\", round(avg_sep_len_Seto, 3))\n",
    "print(\"Average sepal width:\", round(avg_sep_wid_Seto, 3))\n",
    "print(\"Average petal length:\", round(avg_pet_len_Seto, 3))\n",
    "print(\"Average petal width:\", round(avg_pet_wid_Seto, 3), \"\\n\")\n",
    "print(\"Versicolor\")\n",
    "print(\"Average sepal length:\", round(avg_sep_len_Vers, 3))\n",
    "print(\"Average sepal width:\", round(avg_sep_wid_Vers, 3))\n",
    "print(\"Average petal length:\", round(avg_pet_len_Vers, 3))\n",
    "print(\"Average petal width:\", round(avg_pet_wid_Vers, 3), \"\\n\")\n",
    "print(\"Virginica\")\n",
    "print(\"Average sepal length:\", round(avg_sep_len_Virg, 3))\n",
    "print(\"Average sepal width:\", round(avg_sep_wid_Virg, 3))\n",
    "print(\"Average petal length:\", round(avg_pet_len_Virg, 3))\n",
    "print(\"Average petal width:\", round(avg_pet_wid_Virg, 3))"
   ]
  },
  {
   "cell_type": "markdown",
   "metadata": {},
   "source": [
    "### (2) Standard deviation of the four features for three classes\n",
    "#### Explaination\n",
    "因為此處樣本數只有部分並非全體，所以公式採用樣本標準差，即 &nbsp; $ s = \\sqrt{\\frac{\\sum_{i=1}^n{(x_i - μ)^2}}{n-1}} $\n",
    "#### Steps\n",
    "1. 初始化所有deviation變數為0\n",
    "2. 運用for迴圈分別將各筆(data - average)^2 加總進deviation變數\n",
    "3. 將deviation除以49再開根號即為各features標準差"
   ]
  },
  {
   "cell_type": "markdown",
   "metadata": {},
   "source": [
    "#### Result"
   ]
  },
  {
   "cell_type": "code",
   "execution_count": 31,
   "metadata": {},
   "outputs": [
    {
     "name": "stdout",
     "output_type": "stream",
     "text": [
      "Setosa\n",
      "Standard deviation of sepal length: 0.3524896872134512\n",
      "Standard deviation of sepal width: 0.38102439795469095\n",
      "Standard deviation of petal length: 0.1735111594364455\n",
      "Standard deviation of petal width: 0.10720950308167837 \n",
      "\n",
      "Versicolor\n",
      "Standard deviation of sepal length: 0.5161711470638635\n",
      "Standard deviation of sepal width: 0.3137983233784114\n",
      "Standard deviation of petal length: 0.46991097723995806\n",
      "Standard deviation of petal width: 0.197752680004544 \n",
      "\n",
      "Virginica\n",
      "Standard deviation of sepal length: 0.635879593274432\n",
      "Standard deviation of sepal width: 0.3224966381726376\n",
      "Standard deviation of petal length: 0.5518946956639835\n",
      "Standard deviation of petal width: 0.27465005563666733\n"
     ]
    }
   ],
   "source": [
    "dev_sep_len_Seto = 0\n",
    "dev_sep_wid_Seto = 0\n",
    "dev_pet_len_Seto = 0\n",
    "dev_pet_wid_Seto = 0\n",
    "dev_sep_len_Vers = 0\n",
    "dev_sep_wid_Vers = 0\n",
    "dev_pet_len_Vers = 0\n",
    "dev_pet_wid_Vers = 0\n",
    "dev_sep_len_Virg = 0\n",
    "dev_sep_wid_Virg = 0\n",
    "dev_pet_len_Virg = 0\n",
    "dev_pet_wid_Virg = 0\n",
    "\n",
    "for i in range(50):\n",
    "    dev_sep_len_Seto += (df.iloc[i, 0] - avg_sep_len_Seto) ** 2\n",
    "    dev_sep_wid_Seto += (df.iloc[i, 1] - avg_sep_wid_Seto) ** 2\n",
    "    dev_pet_len_Seto += (df.iloc[i, 2] - avg_pet_len_Seto) ** 2\n",
    "    dev_pet_wid_Seto += (df.iloc[i, 3] - avg_pet_wid_Seto) ** 2\n",
    "    dev_sep_len_Vers += (df.iloc[i+50, 0] - avg_sep_len_Vers) ** 2\n",
    "    dev_sep_wid_Vers += (df.iloc[i+50, 1] - avg_sep_wid_Vers) ** 2\n",
    "    dev_pet_len_Vers += (df.iloc[i+50, 2] - avg_pet_len_Vers) ** 2\n",
    "    dev_pet_wid_Vers += (df.iloc[i+50, 3] - avg_pet_wid_Vers) ** 2\n",
    "    dev_sep_len_Virg += (df.iloc[i+100, 0] - avg_sep_len_Virg) ** 2\n",
    "    dev_sep_wid_Virg += (df.iloc[i+100, 1] - avg_sep_wid_Virg) ** 2\n",
    "    dev_pet_len_Virg += (df.iloc[i+100, 2] - avg_pet_len_Virg) ** 2\n",
    "    dev_pet_wid_Virg += (df.iloc[i+100, 3] - avg_pet_wid_Virg) ** 2\n",
    "\n",
    "dev_sep_len_Seto /= 49\n",
    "dev_sep_wid_Seto /= 49\n",
    "dev_pet_len_Seto /= 49\n",
    "dev_pet_wid_Seto /= 49\n",
    "dev_sep_len_Vers /= 49\n",
    "dev_sep_wid_Vers /= 49\n",
    "dev_pet_len_Vers /= 49\n",
    "dev_pet_wid_Vers /= 49\n",
    "dev_sep_len_Virg /= 49\n",
    "dev_sep_wid_Virg /= 49\n",
    "dev_pet_len_Virg /= 49\n",
    "dev_pet_wid_Virg /= 49\n",
    "\n",
    "dev_sep_len_Seto **= (1/2)\n",
    "dev_sep_wid_Seto **= (1/2)\n",
    "dev_pet_len_Seto **= (1/2)\n",
    "dev_pet_wid_Seto **= (1/2)\n",
    "dev_sep_len_Vers **= (1/2)\n",
    "dev_sep_wid_Vers **= (1/2)\n",
    "dev_pet_len_Vers **= (1/2)\n",
    "dev_pet_wid_Vers **= (1/2)\n",
    "dev_sep_len_Virg **= (1/2)\n",
    "dev_sep_wid_Virg **= (1/2)\n",
    "dev_pet_len_Virg **= (1/2)\n",
    "dev_pet_wid_Virg **= (1/2)\n",
    "\n",
    "print(\"Setosa\")\n",
    "print(\"Standard deviation of sepal length:\", dev_sep_len_Seto)\n",
    "print(\"Standard deviation of sepal width:\", dev_sep_wid_Seto)\n",
    "print(\"Standard deviation of petal length:\", dev_pet_len_Seto)\n",
    "print(\"Standard deviation of petal width:\", dev_pet_wid_Seto, \"\\n\")\n",
    "print(\"Versicolor\")\n",
    "print(\"Standard deviation of sepal length:\", dev_sep_len_Vers)\n",
    "print(\"Standard deviation of sepal width:\", dev_sep_wid_Vers)\n",
    "print(\"Standard deviation of petal length:\", dev_pet_len_Vers)\n",
    "print(\"Standard deviation of petal width:\", dev_pet_wid_Vers, \"\\n\")\n",
    "print(\"Virginica\")\n",
    "print(\"Standard deviation of sepal length:\", dev_sep_len_Virg)\n",
    "print(\"Standard deviation of sepal width:\", dev_sep_wid_Virg)\n",
    "print(\"Standard deviation of petal length:\", dev_pet_len_Virg)\n",
    "print(\"Standard deviation of petal width:\", dev_pet_wid_Virg)"
   ]
  },
  {
   "cell_type": "markdown",
   "metadata": {},
   "source": [
    "### (3) standardized features of the three classes\n",
    "#### Explaination\n",
    "運用公式 &nbsp; $ x_i\\prime = \\frac{x_i - μ_i}{\\sigma_i} $ &nbsp; 將data標準化\n",
    "#### Steps\n",
    "1. 運用for迴圈分算出各筆(data - average) / deviation，3種不同鳶尾花分開算"
   ]
  },
  {
   "cell_type": "markdown",
   "metadata": {},
   "source": [
    "#### Result "
   ]
  },
  {
   "cell_type": "code",
   "execution_count": 71,
   "metadata": {
    "scrolled": true
   },
   "outputs": [
    {
     "name": "stdout",
     "output_type": "stream",
     "text": [
      "Setosa standardized features\n",
      "Sepal_length  Sepal_width  Petal_length  Petal_width\n",
      "    0.26667      0.21521     -0.36885     -0.41041\n",
      "   -0.30072     -1.09704     -0.36885     -0.41041\n",
      "   -0.86811     -0.57214     -0.94518     -0.41041\n",
      "   -1.15181     -0.83459      0.20748     -0.41041\n",
      "   -0.01702      0.47766     -0.36885     -0.41041\n",
      "    1.11776      1.26501      1.36014      1.45509\n",
      "   -1.15181     -0.04724     -0.36885      0.52234\n",
      "   -0.01702     -0.04724      0.20748     -0.41041\n",
      "   -1.71920     -1.35949     -0.36885     -0.41041\n",
      "   -0.30072     -0.83459      0.20748     -1.34316\n",
      "    1.11776      0.74011      0.20748     -0.41041\n",
      "   -0.58441     -0.04724      0.78381     -0.41041\n",
      "   -0.58441     -1.09704     -0.36885     -1.34316\n",
      "   -2.00290     -1.09704     -2.09785     -1.34316\n",
      "    2.25255      1.52746     -1.52152     -0.41041\n",
      "    1.96885      2.57726      0.20748      1.45509\n",
      "    1.11776      1.26501     -0.94518      1.45509\n",
      "    0.26667      0.21521     -0.36885      0.52234\n",
      "    1.96885      1.00256      1.36014      0.52234\n",
      "    0.26667      1.00256      0.20748      0.52234\n",
      "    1.11776     -0.04724      1.36014     -0.41041\n",
      "    0.26667      0.74011      0.20748      1.45509\n",
      "   -1.15181      0.47766     -2.67418     -0.41041\n",
      "    0.26667     -0.30969      1.36014      2.38785\n",
      "   -0.58441     -0.04724      2.51281     -0.41041\n",
      "   -0.01702     -1.09704      0.78381     -0.41041\n",
      "   -0.01702     -0.04724      0.78381      1.45509\n",
      "    0.55037      0.21521      0.20748     -0.41041\n",
      "    0.55037     -0.04724     -0.36885     -0.41041\n",
      "   -0.86811     -0.57214      0.78381     -0.41041\n",
      "   -0.58441     -0.83459      0.78381     -0.41041\n",
      "    1.11776     -0.04724      0.20748      1.45509\n",
      "    0.55037      1.78991      0.20748     -1.34316\n",
      "    1.40146      2.05236     -0.36885     -0.41041\n",
      "   -0.30072     -0.83459      0.20748     -1.34316\n",
      "   -0.01702     -0.57214     -1.52152     -0.41041\n",
      "    1.40146      0.21521     -0.94518     -0.41041\n",
      "   -0.30072     -0.83459      0.20748     -1.34316\n",
      "   -1.71920     -1.09704     -0.94518     -0.41041\n",
      "    0.26667     -0.04724      0.20748     -0.41041\n",
      "   -0.01702      0.21521     -0.94518      0.52234\n",
      "   -1.43550     -2.93420     -0.94518      0.52234\n",
      "   -1.71920     -0.57214     -0.94518     -0.41041\n",
      "   -0.01702      0.21521      0.78381      3.32060\n",
      "    0.26667      1.00256      2.51281      1.45509\n",
      "   -0.58441     -1.09704     -0.36885      0.52234\n",
      "    0.26667      1.00256      0.78381     -0.41041\n",
      "   -1.15181     -0.57214     -0.36885     -0.41041\n",
      "    0.83407      0.74011      0.20748     -0.41041\n",
      "   -0.01702     -0.30969     -0.36885     -0.41041\n",
      "\n",
      "Versicolor standardized features\n",
      "Sepal_length  Sepal_width  Petal_length  Petal_width\n",
      "    2.06133      1.37031      0.93635      0.37420\n",
      "    0.89893      1.37031      0.51074      0.87989\n",
      "    1.86760      1.05163      1.36196      0.87989\n",
      "   -0.84468     -1.49778     -0.55330     -0.13148\n",
      "    1.09266      0.09560      0.72354      0.87989\n",
      "   -0.45721      0.09560      0.51074     -0.13148\n",
      "    0.70519      1.68898      0.93635      1.38557\n",
      "   -2.00709     -1.17910     -2.04294     -1.64852\n",
      "    1.28640      0.41428      0.72354     -0.13148\n",
      "   -1.42588     -0.22307     -0.76610      0.37420\n",
      "   -1.81335     -2.45381     -1.61733     -1.64852\n",
      "   -0.06974      0.73295     -0.12768      0.87989\n",
      "    0.12399     -1.81645     -0.55330     -1.64852\n",
      "    0.31772      0.41428      0.93635      0.37420\n",
      "   -0.65095      0.41428     -1.40452     -0.13148\n",
      "    1.48013      1.05163      0.29793      0.37420\n",
      "   -0.65095      0.73295      0.51074      0.87989\n",
      "   -0.26348     -0.22307     -0.34049     -1.64852\n",
      "    0.51146     -1.81645      0.51074      0.87989\n",
      "   -0.65095     -0.86043     -0.76610     -1.14284\n",
      "   -0.06974      1.37031      1.14915      2.39693\n",
      "    0.31772      0.09560     -0.55330     -0.13148\n",
      "    0.70519     -0.86043      1.36196      0.87989\n",
      "    0.31772      0.09560      0.93635     -0.63716\n",
      "    0.89893      0.41428      0.08512     -0.13148\n",
      "    1.28640      0.73295      0.29793      0.37420\n",
      "    1.67386      0.09560      1.14915      0.37420\n",
      "    1.48013      0.73295      1.57477      1.89125\n",
      "    0.12399      0.41428      0.51074      0.87989\n",
      "   -0.45721     -0.54175     -1.61733     -1.64852\n",
      "   -0.84468     -1.17910     -0.97891     -1.14284\n",
      "   -0.84468     -1.17910     -1.19172     -1.64852\n",
      "   -0.26348     -0.22307     -0.76610     -0.63716\n",
      "    0.12399     -0.22307      1.78757      1.38557\n",
      "   -1.03842      0.73295      0.51074      0.87989\n",
      "    0.12399      2.00766      0.51074      1.38557\n",
      "    1.48013      1.05163      0.93635      0.87989\n",
      "    0.70519     -1.49778      0.29793     -0.13148\n",
      "   -0.65095      0.73295     -0.34049     -0.13148\n",
      "   -0.84468     -0.86043     -0.55330     -0.13148\n",
      "   -0.84468     -0.54175      0.29793     -0.63716\n",
      "    0.31772      0.73295      0.72354      0.37420\n",
      "   -0.26348     -0.54175     -0.55330     -0.63716\n",
      "   -1.81335     -1.49778     -2.04294     -1.64852\n",
      "   -0.65095     -0.22307     -0.12768     -0.13148\n",
      "   -0.45721      0.73295     -0.12768     -0.63716\n",
      "   -0.45721      0.41428     -0.12768     -0.13148\n",
      "    0.51146      0.41428      0.08512     -0.13148\n",
      "   -1.61962     -0.86043     -2.68136     -1.14284\n",
      "   -0.45721      0.09560     -0.34049     -0.13148\n",
      "\n",
      "Virginica standardized features\n",
      "Sepal_length  Sepal_width  Petal_length  Petal_width\n",
      "   -0.45292      1.01086      0.81175      1.72583\n",
      "   -1.23923     -0.84962     -0.81900     -0.45877\n",
      "    0.80518      0.08062      0.63056      0.26943\n",
      "   -0.45292     -0.22946      0.08697     -0.82287\n",
      "   -0.13839      0.08062      0.44936      0.63353\n",
      "    1.59150      0.08062      1.89891      0.26943\n",
      "   -2.65459     -1.46978     -1.90616     -1.18696\n",
      "    1.11971     -0.22946      1.35533     -0.82287\n",
      "    0.17613     -1.46978      0.44936     -0.82287\n",
      "    0.96245      1.94111      0.99294      1.72583\n",
      "   -0.13839      0.70078     -0.81900     -0.09467\n",
      "   -0.29565     -0.84962     -0.45661     -0.45877\n",
      "    0.33340      0.08062     -0.09422      0.26943\n",
      "   -1.39649     -1.46978     -1.00019     -0.09467\n",
      "   -1.23923     -0.53954     -0.81900      1.36173\n",
      "   -0.29565      0.70078     -0.45661      0.99763\n",
      "   -0.13839      0.08062     -0.09422     -0.82287\n",
      "    1.74876      2.56127      2.08011      0.63353\n",
      "    1.74876     -1.15970      2.44249      0.99763\n",
      "   -0.92470     -2.40003     -1.00019     -1.91516\n",
      "    0.49066      0.70078      0.26817      0.99763\n",
      "   -1.55375     -0.53954     -1.18138     -0.09467\n",
      "    1.74876     -0.53954      2.08011     -0.09467\n",
      "   -0.45292     -0.84962     -1.18138     -0.82287\n",
      "    0.17613      1.01086      0.26817      0.26943\n",
      "    0.96245      0.70078      0.81175     -0.82287\n",
      "   -0.61018     -0.53954     -1.36258     -0.82287\n",
      "   -0.76744      0.08062     -1.18138     -0.82287\n",
      "   -0.29565     -0.53954      0.08697      0.26943\n",
      "    0.96245      0.08062      0.44936     -1.55106\n",
      "    1.27697     -0.53954      0.99294     -0.45877\n",
      "    2.06328      2.56127      1.53653     -0.09467\n",
      "   -0.29565     -0.53954      0.08697      0.63353\n",
      "   -0.45292     -0.53954     -0.81900     -1.91516\n",
      "   -0.76744     -1.15970      0.08697     -2.27926\n",
      "    1.74876      0.08062      0.99294      0.99763\n",
      "   -0.45292      1.32094      0.08697      1.36173\n",
      "   -0.29565      0.39070     -0.09422     -0.82287\n",
      "   -0.92470      0.08062     -1.36258     -0.82287\n",
      "    0.49066      0.39070     -0.27541      0.26943\n",
      "    0.17613      0.39070      0.08697      1.36173\n",
      "    0.49066      0.39070     -0.81900      0.99763\n",
      "   -1.23923     -0.84962     -0.81900     -0.45877\n",
      "    0.33340      0.70078      0.63056      0.99763\n",
      "    0.17613      1.01086      0.26817      1.72583\n",
      "    0.17613      0.08062     -0.63780      0.99763\n",
      "   -0.45292     -1.46978     -1.00019     -0.45877\n",
      "   -0.13839      0.08062     -0.63780     -0.09467\n",
      "   -0.61018      1.32094     -0.27541      0.99763\n",
      "   -1.08197      0.08062     -0.81900     -0.82287\n"
     ]
    }
   ],
   "source": [
    "print(\"Setosa standardized features\")\n",
    "print(\"Sepal_length  Sepal_width  Petal_length  Petal_width\")\n",
    "for i in range(50):\n",
    "    print(\"  \",'% 1.5f' % round((df.iloc[i, 0] - avg_sep_len_Seto)/dev_sep_len_Seto, 5), end = \"     \")    \n",
    "    print('% 1.5f' % round((df.iloc[i, 1] - avg_sep_wid_Seto)/dev_sep_wid_Seto, 5), end = \"     \")\n",
    "    print('% 1.5f' % round((df.iloc[i, 2] - avg_pet_len_Seto)/dev_pet_len_Seto, 5), end = \"     \")\n",
    "    print('% 1.5f' % round((df.iloc[i, 3] - avg_pet_wid_Seto)/dev_pet_wid_Seto, 5))\n",
    "print(\"\")\n",
    "    \n",
    "print(\"Versicolor standardized features\")\n",
    "print(\"Sepal_length  Sepal_width  Petal_length  Petal_width\")\n",
    "for i in range(50):\n",
    "    print(\"  \",'% 1.5f' % round((df.iloc[i+50, 0] - avg_sep_len_Vers)/dev_sep_len_Vers, 5), end = \"     \")    \n",
    "    print('% 1.5f' % round((df.iloc[i+50, 1] - avg_sep_wid_Vers)/dev_sep_wid_Vers, 5), end = \"     \")\n",
    "    print('% 1.5f' % round((df.iloc[i+50, 2] - avg_pet_len_Vers)/dev_pet_len_Vers, 5), end = \"     \")\n",
    "    print('% 1.5f' % round((df.iloc[i+50, 3] - avg_pet_wid_Vers)/dev_pet_wid_Vers, 5))\n",
    "print(\"\")\n",
    "    \n",
    "print(\"Virginica standardized features\")\n",
    "print(\"Sepal_length  Sepal_width  Petal_length  Petal_width\")\n",
    "for i in range(50):\n",
    "    print(\"  \",'% 1.5f' % round((df.iloc[i+100, 0] - avg_sep_len_Virg)/dev_sep_len_Virg, 5), end = \"     \")    \n",
    "    print('% 1.5f' % round((df.iloc[i+100, 1] - avg_sep_wid_Virg)/dev_sep_wid_Virg, 5), end = \"     \")\n",
    "    print('% 1.5f' % round((df.iloc[i+100, 2] - avg_pet_len_Virg)/dev_pet_len_Virg, 5), end = \"     \")\n",
    "    print('% 1.5f' % round((df.iloc[i+100, 3] - avg_pet_wid_Virg)/dev_pet_wid_Virg, 5))"
   ]
  },
  {
   "cell_type": "markdown",
   "metadata": {},
   "source": [
    "## <u>Question2</u>"
   ]
  },
  {
   "cell_type": "markdown",
   "metadata": {},
   "source": [
    "用matplotlib.pyplot套件中的scatter function畫出題目要求的散佈圖，以各小題先提到的feature做為x軸、第二個feature為y軸，每張圖上都畫有各小題指定兩種類別的鳶尾花。 \n",
    "  \n",
    "3張圖中的圖標統一如下\n",
    "* Setosa：紅色點點\n",
    "* Versicolor：藍色叉叉\n",
    "* Virginica：綠色方塊"
   ]
  },
  {
   "cell_type": "markdown",
   "metadata": {},
   "source": [
    "### Result "
   ]
  },
  {
   "cell_type": "code",
   "execution_count": 79,
   "metadata": {
    "scrolled": true
   },
   "outputs": [
    {
     "data": {
      "text/plain": [
       "<matplotlib.legend.Legend at 0x2a16b04bbc8>"
      ]
     },
     "execution_count": 79,
     "metadata": {},
     "output_type": "execute_result"
    },
    {
     "data": {
      "image/png": "[encoded data removed]",
      "text/plain": [
       "<Figure size 432x288 with 1 Axes>"
      ]
     },
     "metadata": {
      "needs_background": "light"
     },
     "output_type": "display_data"
    },
    {
     "data": {
      "image/png": "[encoded data removed]",
      "text/plain": [
       "<Figure size 432x288 with 1 Axes>"
      ]
     },
     "metadata": {
      "needs_background": "light"
     },
     "output_type": "display_data"
    },
    {
     "data": {
      "image/png": "[encoded data removed]",
      "text/plain": [
       "<Figure size 432x288 with 1 Axes>"
      ]
     },
     "metadata": {
      "needs_background": "light"
     },
     "output_type": "display_data"
    }
   ],
   "source": [
    "import matplotlib.pyplot as plt\n",
    "\n",
    "plt.figure(0)\n",
    "plt.title('(a) sepal width, petal width of Setosa and Veriscolor')\n",
    "plt.scatter(df.iloc[:50, 1], df.iloc[:50, 3], color = 'red', marker = 'o', label = 'Setosa')\n",
    "plt.scatter(df.iloc[50:100, 1], df.iloc[50:100, 3], color = 'blue', marker = 'x', label = 'Versicolor')\n",
    "plt.xlabel('sepal width (cm)')\n",
    "plt.ylabel('petal width (cm)')\n",
    "plt.legend(loc = 'upper right')\n",
    "\n",
    "plt.figure(1)\n",
    "plt.title('(b) sepal length, petal width of Versicolor and Virginica')\n",
    "plt.scatter(df.iloc[50:100, 0], df.iloc[50:100, 3], color = 'blue', marker = 'x', label = 'Versicolor')\n",
    "plt.scatter(df.iloc[100:150, 0], df.iloc[100:150, 3], color = 'green', marker = 'D', label = 'Virginica')\n",
    "plt.xlabel('sepal length (cm)')\n",
    "plt.ylabel('petal width (cm)')\n",
    "plt.legend(loc = 'upper right')\n",
    "\n",
    "plt.figure(2)\n",
    "plt.title('(c) sepal length, petal length of Versicolor and Setosa')\n",
    "plt.scatter(df.iloc[50:100, 0], df.iloc[50:100, 2], color = 'blue', marker = 'x', label = 'Versicolor')\n",
    "plt.scatter(df.iloc[:50, 0], df.iloc[:50, 2], color = 'red', marker = 'o', label = 'Setosa')\n",
    "plt.xlabel('sepal length (cm)')\n",
    "plt.ylabel('petal length (cm)')\n",
    "plt.legend(loc = 'upper right')"
   ]
  },
  {
   "cell_type": "markdown",
   "metadata": {},
   "source": [
    "## <u>Discussion</u>\n",
    "1. 從第一題中，我學到了如何用python將data讀進程式裡，並且運用資料做基礎的運算，也複習了之前學過的平均、標準差及數據標準化的算法。寫完後也對python的迴圈用法更熟悉。\n",
    "2. 從第二題中，我學到了如何使用matplotlib套件畫散佈圖，並且將所有的圖標都詳細附在圖上。\n",
    "3. 做這份作業也是我第一次使用markdown language，若以後使用更熟悉，感覺會蠻方便的。"
   ]
  }
 ],
 "metadata": {
  "kernelspec": {
   "display_name": "Python 3",
   "language": "python",
   "name": "python3"
  },
  "language_info": {
   "codemirror_mode": {
    "name": "ipython",
    "version": 3
   },
   "file_extension": ".py",
   "mimetype": "text/x-python",
   "name": "python",
   "nbconvert_exporter": "python",
   "pygments_lexer": "ipython3",
   "version": "3.7.9"
  }
 },
 "nbformat": 4,
 "nbformat_minor": 4
}
